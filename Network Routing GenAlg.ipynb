{
 "cells": [
  {
   "cell_type": "markdown",
   "metadata": {},
   "source": [
    "# Dijkstra's"
   ]
  },
  {
   "cell_type": "code",
   "execution_count": 66,
   "metadata": {},
   "outputs": [
    {
     "name": "stdout",
     "output_type": "stream",
     "text": [
      "Time taken is 0:00:00.000030\n",
      "Shortest distances from node A:\n",
      "To node A: 0 with path: ['A']\n",
      "To node B: 5 with path: ['A', 'B']\n",
      "To node C: 3 with path: ['A', 'C']\n",
      "To node D: 6 with path: ['A', 'B', 'D']\n",
      "To node E: 7 with path: ['A', 'B', 'D', 'E']\n",
      "To node F: 10 with path: ['A', 'B', 'D', 'E', 'F']\n",
      "To node G: 11 with path: ['A', 'B', 'D', 'G']\n",
      "To node H: 9 with path: ['A', 'B', 'D', 'E', 'H']\n"
     ]
    }
   ],
   "source": [
    "import heapq\n",
    "import numpy as np\n",
    "from math import floor\n",
    "from datetime import datetime\n",
    "\n",
    "def dijkstra(graph, source):\n",
    "    start_time = datetime.now()\n",
    "    distances = {node: float('inf') for node in graph}\n",
    "    distances[source] = 0\n",
    "    predecessors = {node: None for node in graph}\n",
    "    \n",
    "    priority_queue = [(0, source)]\n",
    "    \n",
    "    while priority_queue:\n",
    "        curr_distance, curr_node = heapq.heappop(priority_queue)\n",
    "        \n",
    "        if curr_distance > distances[curr_node]:\n",
    "            continue\n",
    "        \n",
    "        for neighbor, weight in graph[curr_node].items():\n",
    "            distance = curr_distance + weight\n",
    "            if distance < distances[neighbor]:\n",
    "                distances[neighbor] = distance\n",
    "                predecessors[neighbor] = curr_node\n",
    "                heapq.heappush(priority_queue, (distance, neighbor))\n",
    "    \n",
    "    shortest_paths = {}\n",
    "    for node in graph:\n",
    "        path = []\n",
    "        curr_node = node\n",
    "        while curr_node is not None:\n",
    "            path.insert(0, curr_node)\n",
    "            curr_node = predecessors[curr_node]\n",
    "        shortest_paths[node] = path\n",
    "    \n",
    "    time_diff = datetime.now() - start_time\n",
    "    print(f\"Time taken is {time_diff}\")\n",
    "    return distances, shortest_paths\n",
    "\n",
    "\n",
    "graph = {\n",
    "    'A': {'A': 0, 'B': 5, 'C': 3, 'D': 9, 'E': np.iinfo(np.int64).max, 'F': np.iinfo(np.int64).max, 'G': np.iinfo(np.int64).max, 'H': np.iinfo(np.int64).max},\n",
    "    'B': {'A': 5, 'B': 0, 'C': 2, 'D': 1, 'E': 4, 'F': np.iinfo(np.int64).max, 'G': np.iinfo(np.int64).max, 'H': np.iinfo(np.int64).max},\n",
    "    'C': {'A': 3, 'B': 2, 'C': 0, 'D': 4, 'E': 7, 'F': 8, 'G': np.iinfo(np.int64).max, 'H': np.iinfo(np.int64).max},\n",
    "    'D': {'A': 9, 'B': 1, 'C': 4, 'D': 0, 'E': 1, 'F': 6, 'G': 5, 'H': np.iinfo(np.int64).max},\n",
    "    'E': {'A': np.iinfo(np.int64).max, 'B': 4, 'C': 7, 'D': 1, 'E': 0, 'F': 3, 'G': 11, 'H': 2},\n",
    "    'F': {'A': np.iinfo(np.int64).max, 'B': np.iinfo(np.int64).max, 'C': 8, 'D': 6, 'E': 3, 'F': 0, 'G': 10, 'H': 9},\n",
    "    'G': {'A': np.iinfo(np.int64).max, 'B': np.iinfo(np.int64).max, 'C': np.iinfo(np.int64).max, 'D': 5, 'E': 11, 'F': 10, 'G': 0, 'H': 6},\n",
    "    'H': {'A': np.iinfo(np.int64).max, 'B': np.iinfo(np.int64).max, 'C': np.iinfo(np.int64).max, 'D': np.iinfo(np.int64).max, 'E': 2, 'F': 9, 'G': 6, 'H': 0}\n",
    "}\n",
    "\n",
    "source_node = 'A'\n",
    "shortest_distances, shortest_paths = dijkstra(graph, source_node)\n",
    "print(\"Shortest distances from node\", source_node + \":\")\n",
    "for node, distance in shortest_distances.items():\n",
    "    print(\"To node\", node + \":\", distance, \"with path:\", shortest_paths[node])\n"
   ]
  },
  {
   "cell_type": "code",
   "execution_count": 67,
   "metadata": {},
   "outputs": [],
   "source": [
    "\n",
    "# Define the graph using a dictionary\n",
    "neg_graph = {\n",
    "    'A': {'A': 0, 'B': -5, 'C': 3, 'D': 9, 'E': np.iinfo(np.int64).max, 'F': np.iinfo(np.int64).max, 'G': np.iinfo(np.int64).max, 'H': np.iinfo(np.int64).max},\n",
    "    'B': {'A': -5, 'B': 0, 'C': 2, 'D': 1, 'E': 4, 'F': np.iinfo(np.int64).max, 'G': np.iinfo(np.int64).max, 'H': np.iinfo(np.int64).max},\n",
    "    'C': {'A': 3, 'B': 2, 'C': 0, 'D': 4, 'E': -7, 'F': 8, 'G': np.iinfo(np.int64).max, 'H': np.iinfo(np.int64).max},\n",
    "    'D': {'A': 9, 'B': 1, 'C': 4, 'D': 0, 'E': 1, 'F': 6, 'G': 5, 'H': -2},\n",
    "    'E': {'A': np.iinfo(np.int64).max, 'B': 4, 'C': -7, 'D': 1, 'E': 0, 'F': 3, 'G': 11, 'H': 5},\n",
    "    'F': {'A': np.iinfo(np.int64).max, 'B': np.iinfo(np.int64).max, 'C': 8, 'D': 6, 'E': 3, 'F': 0, 'G': 10, 'H': 9},\n",
    "    'G': {'A': np.iinfo(np.int64).max, 'B': np.iinfo(np.int64).max, 'C': np.iinfo(np.int64).max, 'D': 5, 'E': 11, 'F': 10, 'G': 0, 'H': 6},\n",
    "    'H': {'A': np.iinfo(np.int64).max, 'B': np.iinfo(np.int64).max, 'C': np.iinfo(np.int64).max, 'D': -2, 'E': 2, 'F': 9, 'G': 6, 'H': 0}\n",
    "}\n"
   ]
  },
  {
   "cell_type": "code",
   "execution_count": 46,
   "metadata": {},
   "outputs": [
    {
     "ename": "KeyboardInterrupt",
     "evalue": "",
     "output_type": "error",
     "traceback": [
      "\u001b[0;31m---------------------------------------------------------------------------\u001b[0m",
      "\u001b[0;31mKeyboardInterrupt\u001b[0m                         Traceback (most recent call last)",
      "Cell \u001b[0;32mIn[46], line 2\u001b[0m\n\u001b[1;32m      1\u001b[0m source_node \u001b[38;5;241m=\u001b[39m \u001b[38;5;124m'\u001b[39m\u001b[38;5;124mA\u001b[39m\u001b[38;5;124m'\u001b[39m\n\u001b[0;32m----> 2\u001b[0m shortest_distances, shortest_paths \u001b[38;5;241m=\u001b[39m \u001b[43mdijkstra\u001b[49m\u001b[43m(\u001b[49m\u001b[43mneg_graph\u001b[49m\u001b[43m,\u001b[49m\u001b[43m \u001b[49m\u001b[43msource_node\u001b[49m\u001b[43m)\u001b[49m\n\u001b[1;32m      3\u001b[0m \u001b[38;5;28mprint\u001b[39m(\u001b[38;5;124m\"\u001b[39m\u001b[38;5;124mShortest distances from node\u001b[39m\u001b[38;5;124m\"\u001b[39m, source_node \u001b[38;5;241m+\u001b[39m \u001b[38;5;124m\"\u001b[39m\u001b[38;5;124m:\u001b[39m\u001b[38;5;124m\"\u001b[39m)\n\u001b[1;32m      4\u001b[0m \u001b[38;5;28;01mfor\u001b[39;00m node, distance \u001b[38;5;129;01min\u001b[39;00m shortest_distances\u001b[38;5;241m.\u001b[39mitems():\n",
      "Cell \u001b[0;32mIn[44], line 24\u001b[0m, in \u001b[0;36mdijkstra\u001b[0;34m(graph, source)\u001b[0m\n\u001b[1;32m     22\u001b[0m             distances[neighbor] \u001b[38;5;241m=\u001b[39m distance\n\u001b[1;32m     23\u001b[0m             predecessors[neighbor] \u001b[38;5;241m=\u001b[39m current_node\n\u001b[0;32m---> 24\u001b[0m             heapq\u001b[38;5;241m.\u001b[39mheappush(priority_queue, (distance, neighbor))\n\u001b[1;32m     26\u001b[0m shortest_paths \u001b[38;5;241m=\u001b[39m {}\n\u001b[1;32m     27\u001b[0m \u001b[38;5;28;01mfor\u001b[39;00m node \u001b[38;5;129;01min\u001b[39;00m graph:\n",
      "\u001b[0;31mKeyboardInterrupt\u001b[0m: "
     ]
    }
   ],
   "source": [
    "\n",
    "source_node = 'A'\n",
    "shortest_distances, shortest_paths = dijkstra(neg_graph, source_node)\n",
    "print(\"Shortest distances from node\", source_node + \":\")\n",
    "for node, distance in shortest_distances.items():\n",
    "    print(\"To node\", node + \":\", distance, \"with path:\", shortest_paths[node])"
   ]
  },
  {
   "cell_type": "markdown",
   "metadata": {},
   "source": [
    "# Genetic Algorithms"
   ]
  },
  {
   "cell_type": "code",
   "execution_count": 167,
   "metadata": {},
   "outputs": [],
   "source": [
    "import random\n",
    "\n",
    "pop_size = 128\n",
    "generations = 10\n",
    "mutation_rate = 0.1\n",
    "\n",
    "source = 'A'\n",
    "dest = 'H'\n"
   ]
  },
  {
   "cell_type": "code",
   "execution_count": 168,
   "metadata": {},
   "outputs": [],
   "source": [
    "\n",
    "class Routing_GA():\n",
    "    def __init__(self, source = source, destination = dest, graph = graph, mut_prob = mutation_rate, generations = generations, pop_size = pop_size):\n",
    "        self.source = source\n",
    "        self.dest = destination\n",
    "        self.population = []\n",
    "        self.graph = graph\n",
    "        self.graph_keys = list(graph.keys())\n",
    "        self.mutation_rate = mut_prob\n",
    "        self.gens = generations\n",
    "        self.pop_size = pop_size\n",
    "        self.ranked_pop = {}\n",
    "        self.ranked_keys = []\n",
    "    \n",
    "    def initial_population(self):\n",
    "        while len(self.population) < self.pop_size:\n",
    "            local_keys = list(self.graph_keys)\n",
    "            curr_gene = [self.source]\n",
    "            \n",
    "            local_keys = list(filter(lambda x: x != self.source, local_keys))\n",
    "            local_keys = list(filter(lambda x: x != self.dest, local_keys))\n",
    "            \n",
    "            key_num = len(self.graph)-2\n",
    "            for i in range(np.random.randint(2, (len(self.graph)-2))):\n",
    "                key_index = np.random.randint(0, key_num)\n",
    "                curr_gene.append(local_keys[key_index])\n",
    "                local_keys.pop(key_index)\n",
    "                key_num = key_num - 1\n",
    "            \n",
    "            curr_gene.append(self.dest)\n",
    "            \n",
    "            self.population.append(curr_gene)\n",
    "    \n",
    "    def fitness(self):\n",
    "        self.ranked_pop = {}\n",
    "        self.ranked_keys = []\n",
    "        \n",
    "        for i in range(len(self.population)):\n",
    "            curr_gene = list(self.population[i])\n",
    "            curr_fitness = 0\n",
    "            iter_len = len(curr_gene)-1\n",
    "            \n",
    "            for j in range(iter_len):\n",
    "                curr_fitness = curr_fitness + self.graph[curr_gene[-1]][curr_gene[-2]]\n",
    "                curr_gene.pop()\n",
    "            \n",
    "            if curr_fitness < 1000:\n",
    "                self.ranked_pop[i] = list((curr_fitness, self.population[i]))\n",
    "        \n",
    "        self.population = []\n",
    "        \n",
    "    \n",
    "    def rank(self):\n",
    "        self.ranked_keys = sorted(self.ranked_pop.keys(), key=lambda x: self.ranked_pop[x][0], reverse=False)\n",
    "        \n",
    "        for i in range(len((self.ranked_pop))):\n",
    "            self.population.append(self.ranked_pop[self.ranked_keys[i]][1])\n",
    "            \n",
    "    \n",
    "    def crossover(self):\n",
    "        iter_len = int(floor(len(self.population)/2))\n",
    "        self.population = self.population[0:iter_len+1]\n",
    "        \n",
    "        for i in range(0, len(self.population)-1, 2):\n",
    "            parent1 = self.population[i]\n",
    "            if len(parent1) > 1:\n",
    "                parent1 = parent1[0:np.random.randint(low=1, high=len(parent1))]\n",
    "            else: parent1.pop()\n",
    "            \n",
    "            parent2 = self.population[i+1]\n",
    "            if len(parent2) > 2:\n",
    "                parent2 = parent2[np.random.randint(1, len(parent2)-1):len(parent2)]\n",
    "            \n",
    "            \n",
    "            child_holder = parent1 + parent2\n",
    "            child = []\n",
    "            \n",
    "            for i in range(len(child_holder)):\n",
    "                if child_holder[i] not in child:\n",
    "                    child.append(child_holder[i])\n",
    "                    \n",
    "            self.population.append(child)\n",
    "            \n",
    "        \n",
    "\n",
    "    \n",
    "    def genetic_algorithm(self):\n",
    "        start_time = datetime.now()\n",
    "        while len(self.ranked_pop) < 15:\n",
    "            self.initial_population()\n",
    "            self.fitness()\n",
    "            self.rank()\n",
    "        \n",
    "        for generation in range(self.gens):\n",
    "            self.fitness()\n",
    "            self.rank()\n",
    "            self.crossover()    \n",
    "        \n",
    "        time_diff = datetime.now() - start_time\n",
    "        print(f\"Time taken is {time_diff}\")\n",
    "        # return self.ranked_pop[self.ranked_keys[0]]\n",
    "\n",
    "# # Example usage\n",
    "# shortest_path = genetic_algorithm()\n",
    "# print(\"Shortest path found by Genetic Algorithm:\", shortest_path)\n"
   ]
  },
  {
   "cell_type": "code",
   "execution_count": 169,
   "metadata": {},
   "outputs": [
    {
     "name": "stdout",
     "output_type": "stream",
     "text": [
      "Time taken is 0:00:00.001414\n"
     ]
    }
   ],
   "source": [
    "rga = Routing_GA()\n",
    "rga.genetic_algorithm()\n"
   ]
  },
  {
   "cell_type": "code",
   "execution_count": 170,
   "metadata": {},
   "outputs": [
    {
     "name": "stdout",
     "output_type": "stream",
     "text": [
      "[['A', 'B', 'D', 'E', 'H'], ['A', 'B', 'D', 'E', 'H'], ['A', 'B', 'D', 'E', 'H'], ['A', 'E', 'H']]\n",
      "{0: [9, ['A', 'B', 'D', 'E', 'H']], 1: [9, ['A', 'B', 'D', 'E', 'H']], 2: [9, ['A', 'B', 'D', 'E', 'H']], 3: [9, ['A', 'B', 'D', 'E', 'H']]}\n",
      "4\n",
      "['A', 'B', 'D', 'E', 'H']\n"
     ]
    }
   ],
   "source": [
    "print(rga.population)\n",
    "print(rga.ranked_pop)\n",
    "print(len(rga.ranked_pop))\n",
    "print(rga.population[0])\n"
   ]
  },
  {
   "cell_type": "code",
   "execution_count": 181,
   "metadata": {},
   "outputs": [
    {
     "name": "stdout",
     "output_type": "stream",
     "text": [
      "Time taken is 0:00:00.001444\n"
     ]
    }
   ],
   "source": [
    "neg_rga = Routing_GA(graph=neg_graph)\n",
    "neg_rga.genetic_algorithm()"
   ]
  },
  {
   "cell_type": "code",
   "execution_count": 182,
   "metadata": {},
   "outputs": [
    {
     "name": "stdout",
     "output_type": "stream",
     "text": [
      "[['A', 'B', 'C', 'E', 'D', 'H'], ['A', 'B', 'C', 'E', 'D', 'H'], ['A', 'B', 'C', 'E', 'D', 'H'], ['A', 'B', 'C', 'E', 'D', 'H']]\n",
      "{0: [-11, ['A', 'B', 'C', 'E', 'D', 'H']], 1: [-11, ['A', 'B', 'C', 'E', 'D', 'H']], 2: [-8, ['A', 'B', 'C', 'E', 'H']], 3: [-11, ['A', 'B', 'C', 'E', 'D', 'H']]}\n",
      "['A', 'B', 'C', 'E', 'D', 'H']\n"
     ]
    }
   ],
   "source": [
    "print(neg_rga.population)\n",
    "print(neg_rga.ranked_pop)\n",
    "print(neg_rga.population[0])"
   ]
  }
 ],
 "metadata": {
  "kernelspec": {
   "display_name": "Python 3",
   "language": "python",
   "name": "python3"
  },
  "language_info": {
   "codemirror_mode": {
    "name": "ipython",
    "version": 3
   },
   "file_extension": ".py",
   "mimetype": "text/x-python",
   "name": "python",
   "nbconvert_exporter": "python",
   "pygments_lexer": "ipython3",
   "version": "3.11.6"
  }
 },
 "nbformat": 4,
 "nbformat_minor": 2
}
